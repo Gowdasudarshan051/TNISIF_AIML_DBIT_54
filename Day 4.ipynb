{
 "cells": [
  {
   "cell_type": "code",
   "execution_count": 2,
   "id": "1d85b2a8",
   "metadata": {},
   "outputs": [
    {
     "name": "stdout",
     "output_type": "stream",
     "text": [
      "{'alice': 1234, 'bob': 5678, 'david': 9123, 'Thomas': 4567}\n",
      "Enter the name whose number to be modifiedbob\n",
      "Enter the new number1432\n",
      "Modified successfully\n",
      "{'alice': 1234, 'bob': '1432', 'david': 9123, 'Thomas': 4567}\n"
     ]
    }
   ],
   "source": [
    "# update existing phone no in the dictionary\n",
    "phonebook={\"alice\":1234,\"bob\":5678,\"david\":9123,\"Thomas\":4567}\n",
    "print(phonebook)\n",
    "\n",
    "name = input(\"Enter the name whose number to be modified\")\n",
    "if name in phonebook:\n",
    "    newnumb = input(\"Enter the new number\")\n",
    "    phonebook[name] = newnumb\n",
    "    print(\"Modified successfully\")\n",
    "    print(phonebook)\n",
    "else:\n",
    "    print(name, \"was not found.\")"
   ]
  },
  {
   "cell_type": "code",
   "execution_count": 4,
   "id": "fe134810",
   "metadata": {},
   "outputs": [
    {
     "name": "stdout",
     "output_type": "stream",
     "text": [
      "{'alice': 1234, 'bob': 5678, 'david': 9123}\n",
      "{'alice': 1234, 'bob': 5678, 'david': 9123, 'Thomas': 4567}\n",
      "{'alice': 1234, 'bob': 5678, 'david': 9123, 'Thomas': 4567, 'alen': 1928}\n"
     ]
    }
   ],
   "source": [
    "# adding new name and phone no in the dictionary\n",
    "phonebook={\"alice\":1234,\"bob\":5678,\"david\":9123}\n",
    "print(phonebook)\n",
    "\n",
    "phonebook[\"Thomas\"] = 4567\n",
    "print(phonebook)\n",
    "\n",
    "phonebook.update({\"alen\":1928})\n",
    "print(phonebook)"
   ]
  },
  {
   "cell_type": "code",
   "execution_count": 5,
   "id": "64136870",
   "metadata": {},
   "outputs": [
    {
     "name": "stdout",
     "output_type": "stream",
     "text": [
      "{'alice': 1234, 'bob': 5678, 'david': 9123, 'Thomas': 4567}\n",
      "enter the name to delete:bob\n",
      "delete successfully\n",
      "{'alice': 1234, 'david': 9123, 'Thomas': 4567}\n"
     ]
    }
   ],
   "source": [
    "# deleting existing phone no in the dictionary\n",
    "phonebook={\"alice\":1234,\"bob\":5678,\"david\":9123,\"Thomas\":4567}\n",
    "print(phonebook)\n",
    "\n",
    "name = input(\"enter the name to delete:\")\n",
    "if name in phonebook:\n",
    "    del phonebook[name]\n",
    "    print (\"delete successfully\")\n",
    "    print (phonebook)\n",
    "else:\n",
    "    print (name,\"was not found\")"
   ]
  },
  {
   "cell_type": "code",
   "execution_count": 7,
   "id": "dabd155f",
   "metadata": {},
   "outputs": [
    {
     "name": "stdout",
     "output_type": "stream",
     "text": [
      "{}\n"
     ]
    }
   ],
   "source": [
    "# Deleting all items in the dictionary\n",
    "phonebook={\"alice\":1234,\"bob\":5678,\"david\":9123,\"Thomas\":4567}\n",
    "phonebook.clear()\n",
    "print(phonebook)"
   ]
  },
  {
   "cell_type": "code",
   "execution_count": null,
   "id": "89966640",
   "metadata": {},
   "outputs": [],
   "source": []
  }
 ],
 "metadata": {
  "kernelspec": {
   "display_name": "Python 3 (ipykernel)",
   "language": "python",
   "name": "python3"
  },
  "language_info": {
   "codemirror_mode": {
    "name": "ipython",
    "version": 3
   },
   "file_extension": ".py",
   "mimetype": "text/x-python",
   "name": "python",
   "nbconvert_exporter": "python",
   "pygments_lexer": "ipython3",
   "version": "3.9.13"
  }
 },
 "nbformat": 4,
 "nbformat_minor": 5
}
